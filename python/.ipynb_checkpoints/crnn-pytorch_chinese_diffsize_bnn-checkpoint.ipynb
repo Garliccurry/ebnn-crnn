{
 "cells": [
  {
   "cell_type": "code",
   "execution_count": 1,
   "metadata": {},
   "outputs": [
    {
     "name": "stdout",
     "output_type": "stream",
     "text": [
      "407\n"
     ]
    }
   ],
   "source": [
    "# -*- coding: utf-8 -*-\n",
    "import os\n",
    "import glob \n",
    "import pandas as pd\n",
    "import string\n",
    "import collections\n",
    "from tqdm import tqdm\n",
    "from PIL import Image\n",
    "from sklearn.model_selection import train_test_split\n",
    "import torch\n",
    "import torch.nn as nn\n",
    "import torch.nn.functional as F\n",
    "import torchvision.transforms as T\n",
    "from torch.utils.data import DataLoader\n",
    "import torch.optim as optim\n",
    "from Gen.chinese_data import common_chinese_chars\n",
    "from bnn_layer import BLinear, BConv2d"
   ]
  },
  {
   "cell_type": "code",
   "execution_count": 2,
   "metadata": {},
   "outputs": [],
   "source": [
    "path = r'F:\\\\project\\\\python\\\\OCR\\\\Recognize\\\\data\\\\chinese\\\\num55size3240font3shape20050'\n",
    "data = glob.glob(os.path.join(path, '*.png'))\n",
    "DEVICE = torch.device('cuda' if torch.cuda.is_available() else 'cpu')"
   ]
  },
  {
   "cell_type": "code",
   "execution_count": 3,
   "metadata": {},
   "outputs": [
    {
     "data": {
      "text/plain": [
       "device(type='cuda')"
      ]
     },
     "execution_count": 3,
     "metadata": {},
     "output_type": "execute_result"
    }
   ],
   "source": [
    "DEVICE"
   ]
  },
  {
   "cell_type": "code",
   "execution_count": 4,
   "metadata": {},
   "outputs": [],
   "source": [
    "all_letters = common_chinese_chars\n",
    "mapping = {}\n",
    "mapping_inv = {}\n",
    "i = 1\n",
    "for x in all_letters:\n",
    "    mapping[x] = i\n",
    "    mapping_inv[i] = x\n",
    "    i += 1"
   ]
  },
  {
   "cell_type": "code",
   "execution_count": 5,
   "metadata": {},
   "outputs": [],
   "source": [
    "num_class = len(mapping)"
   ]
  },
  {
   "cell_type": "code",
   "execution_count": 6,
   "metadata": {
    "scrolled": true
   },
   "outputs": [],
   "source": [
    "# mapping"
   ]
  },
  {
   "cell_type": "code",
   "execution_count": 7,
   "metadata": {},
   "outputs": [],
   "source": [
    "# mapping_inv"
   ]
  },
  {
   "cell_type": "code",
   "execution_count": 8,
   "metadata": {},
   "outputs": [
    {
     "data": {
      "text/html": [
       "<div>\n",
       "<style scoped>\n",
       "    .dataframe tbody tr th:only-of-type {\n",
       "        vertical-align: middle;\n",
       "    }\n",
       "\n",
       "    .dataframe tbody tr th {\n",
       "        vertical-align: top;\n",
       "    }\n",
       "\n",
       "    .dataframe thead th {\n",
       "        text-align: right;\n",
       "    }\n",
       "</style>\n",
       "<table border=\"1\" class=\"dataframe\">\n",
       "  <thead>\n",
       "    <tr style=\"text-align: right;\">\n",
       "      <th></th>\n",
       "      <th>image</th>\n",
       "      <th>label</th>\n",
       "    </tr>\n",
       "  </thead>\n",
       "  <tbody>\n",
       "    <tr>\n",
       "      <th>0</th>\n",
       "      <td>一一色度出.png</td>\n",
       "      <td>[2, 2, 297, 177, 22]</td>\n",
       "    </tr>\n",
       "    <tr>\n",
       "      <th>1</th>\n",
       "      <td>一上住者场.png</td>\n",
       "      <td>[2, 14, 302, 96, 242]</td>\n",
       "    </tr>\n",
       "    <tr>\n",
       "      <th>2</th>\n",
       "      <td>一不都他入.png</td>\n",
       "      <td>[2, 6, 61, 12, 203]</td>\n",
       "    </tr>\n",
       "    <tr>\n",
       "      <th>3</th>\n",
       "      <td>一业开力小.png</td>\n",
       "      <td>[2, 123, 87, 99, 76]</td>\n",
       "    </tr>\n",
       "    <tr>\n",
       "      <th>4</th>\n",
       "      <td>一东清件导.png</td>\n",
       "      <td>[2, 187, 328, 243, 336]</td>\n",
       "    </tr>\n",
       "  </tbody>\n",
       "</table>\n",
       "</div>"
      ],
      "text/plain": [
       "       image                    label\n",
       "0  一一色度出.png     [2, 2, 297, 177, 22]\n",
       "1  一上住者场.png    [2, 14, 302, 96, 242]\n",
       "2  一不都他入.png      [2, 6, 61, 12, 203]\n",
       "3  一业开力小.png     [2, 123, 87, 99, 76]\n",
       "4  一东清件导.png  [2, 187, 328, 243, 336]"
      ]
     },
     "execution_count": 8,
     "metadata": {},
     "output_type": "execute_result"
    }
   ],
   "source": [
    "images = []\n",
    "labels = []\n",
    "datas = collections.defaultdict(list)\n",
    "for d in data:\n",
    "    x = d.split('\\\\')[-1]\n",
    "\n",
    "    datas['image'].append(x)\n",
    "\n",
    "    datas['label'].append([mapping[i] for i in x.split('.')[0]])\n",
    "df = pd.DataFrame(datas)\n",
    "df.head()"
   ]
  },
  {
   "cell_type": "code",
   "execution_count": 9,
   "metadata": {},
   "outputs": [],
   "source": [
    "# datas"
   ]
  },
  {
   "cell_type": "code",
   "execution_count": 10,
   "metadata": {},
   "outputs": [],
   "source": [
    "df_train, df_test = train_test_split(df, test_size=0.2, shuffle=True)"
   ]
  },
  {
   "cell_type": "code",
   "execution_count": 11,
   "metadata": {},
   "outputs": [],
   "source": [
    "class CaptchaDataset:\n",
    "    def __init__(self, df, transform=None):\n",
    "        self.df = df\n",
    "        self.transform = transform\n",
    "        \n",
    "    def __len__(self):\n",
    "        return len(self.df)\n",
    "    \n",
    "    def __getitem__(self, idx):\n",
    "        data = self.df.iloc[idx]\n",
    "        image = Image.open(os.path.join(path, data['image'])).convert('L')\n",
    "        label = torch.tensor(data['label'], dtype=torch.int32)\n",
    "        \n",
    "        if self.transform is not None:\n",
    "            image = self.transform(image)\n",
    "        \n",
    "        return image, label\n",
    "        \n",
    "        \n",
    "transform = T.Compose([\n",
    "    T.ToTensor()\n",
    "])\n",
    "\n",
    "train_data = CaptchaDataset(df_train, transform)\n",
    "test_data = CaptchaDataset(df_test, transform)\n",
    "\n",
    "train_loader = DataLoader(train_data, batch_size=20, shuffle=True)\n",
    "test_loader = DataLoader(test_data, batch_size=10)\n"
   ]
  },
  {
   "cell_type": "code",
   "execution_count": 12,
   "metadata": {},
   "outputs": [],
   "source": [
    "class Bidirectional(nn.Module):\n",
    "    def __init__(self, inp, hidden, out, lstm=True):\n",
    "        super(Bidirectional, self).__init__()\n",
    "        if lstm:\n",
    "            self.rnn = nn.LSTM(inp, hidden, bidirectional=True)\n",
    "        else:\n",
    "            self.rnn = nn.GRU(inp, hidden, bidirectional=True)\n",
    "        self.embedding = nn.Linear(hidden*2, out)\n",
    "    def forward(self, X):\n",
    "        recurrent, _ = self.rnn(X)\n",
    "        out = self.embedding(recurrent)     \n",
    "        return out\n",
    "    \n",
    "    \n",
    "class CRNN(nn.Module):\n",
    "    def __init__(self, in_channels, output):\n",
    "        super(CRNN, self).__init__()\n",
    "\n",
    "        self.cnn = nn.Sequential(\n",
    "                BConv2d(in_channels, 256, 9, stride=1, padding=1),\n",
    "                nn.BatchNorm2d(256),\n",
    "                nn.MaxPool2d(3, 3),\n",
    "                BConv2d(256, 256, (4, 3), stride=1, padding=1),\n",
    "                nn.BatchNorm2d(256))\n",
    "        \n",
    "        self.linear = BLinear(3328, 256)\n",
    "        self.bn1 = nn.BatchNorm1d(256)\n",
    "        self.rnn = Bidirectional(256, 1024, output+1)\n",
    "\n",
    "    def forward(self, X, y=None, criterion = None):\n",
    "        out = self.cnn(X)\n",
    "        N, C, w, h = out.size()\n",
    "        out = out.view(N, -1, h)\n",
    "        out = out.permute(0, 2, 1)\n",
    "        out = self.linear(out)\n",
    "\n",
    "        out = out.permute(1, 0, 2)\n",
    "        out = self.rnn(out)\n",
    "            \n",
    "        if y is not None:\n",
    "            T = out.size(0)\n",
    "            N = out.size(1)\n",
    "        \n",
    "            input_lengths = torch.full(size=(N,), fill_value=T, dtype=torch.int32)\n",
    "            target_lengths = torch.full(size=(N,), fill_value=5, dtype=torch.int32)\n",
    "        \n",
    "            loss = criterion(out, y, input_lengths, target_lengths)\n",
    "            \n",
    "            return out, loss\n",
    "        \n",
    "        return out, None\n",
    "    \n",
    "    def _ConvLayer(self, inp, out, kernel, stride, padding, bn=False):\n",
    "        if bn:\n",
    "            conv = [\n",
    "                nn.Conv2d(inp, out, kernel, stride=stride, padding=padding),\n",
    "                nn.ReLU(),\n",
    "                nn.BatchNorm2d(out)\n",
    "            ]\n",
    "        else:\n",
    "            conv = [\n",
    "                nn.Conv2d(inp, out, kernel, stride=stride, padding=padding),\n",
    "                nn.ReLU()\n",
    "            ]\n",
    "        return nn.Sequential(*conv)"
   ]
  },
  {
   "cell_type": "code",
   "execution_count": 13,
   "metadata": {},
   "outputs": [],
   "source": [
    "class Engine:\n",
    "    def __init__(self, model, optimizer, criterion, epochs=25, early_stop=False, device='cpu'):\n",
    "        self.model = model\n",
    "        self.optimizer = optimizer\n",
    "        self.criterion = criterion\n",
    "        self.epochs = epochs\n",
    "        self.early_stop = early_stop\n",
    "        self.device = device\n",
    "        \n",
    "    def fit(self, dataloader):\n",
    "        hist_loss = []\n",
    "        for epoch in range(self.epochs):\n",
    "            self.model.train()\n",
    "            tk = tqdm(dataloader, total=len(dataloader))\n",
    "            for data, target in tk:\n",
    "                data = data.to(device=self.device)\n",
    "                target = target.to(device=self.device)\n",
    "\n",
    "                self.optimizer.zero_grad()\n",
    "\n",
    "                out, loss = self.model(data, target, criterion=self.criterion)\n",
    "\n",
    "                loss.backward()\n",
    "\n",
    "                self.optimizer.step()\n",
    "\n",
    "\n",
    "                tk.set_postfix({'Epoch':epoch+1, 'Loss' : loss.item()})\n",
    "                \n",
    "    def evaluate(self, dataloader):\n",
    "        self.model.eval()\n",
    "        loss = 0\n",
    "        hist_loss = []\n",
    "        outs = collections.defaultdict(list)\n",
    "        tk = tqdm(dataloader, total=len(dataloader))\n",
    "        with torch.no_grad():\n",
    "            for data, target in tk:\n",
    "                data = data.to(device=self.device)\n",
    "                target = target.to(device=self.device)\n",
    "\n",
    "                out, loss = self.model(data, target, criterion=self.criterion)\n",
    "               \n",
    "                target=target.cpu().detach().numpy()\n",
    "                outs['pred'].append(out)\n",
    "                outs['target'].append(target)\n",
    "\n",
    "\n",
    "                hist_loss.append(loss)\n",
    "\n",
    "                tk.set_postfix({'Loss':loss.item()})\n",
    "                \n",
    "        return outs, hist_loss\n",
    "    \n",
    "    def predict(self, image):\n",
    "        image = Image.open(image).convert('L')\n",
    "        image_tensor = T.ToTensor()(image)\n",
    "        image_tensor = image_tensor.unsqueeze(0)        \n",
    "        out, _ = self.model(image_tensor.to(device=self.device))\n",
    "        out = out.permute(1, 0, 2)\n",
    "        out = out.log_softmax(2)\n",
    "        out = out.argmax(2)\n",
    "        out = out.cpu().detach().numpy()\n",
    "        \n",
    "        return out\n",
    "        \n"
   ]
  },
  {
   "cell_type": "code",
   "execution_count": 14,
   "metadata": {},
   "outputs": [],
   "source": [
    "model = CRNN(in_channels=1, output=num_class).to(DEVICE)\n",
    "optimizer = optim.Adam(model.parameters(), lr=1e-4)\n",
    "criterion = nn.CTCLoss()\n",
    "\n",
    "engine = Engine(model, optimizer, criterion, device=DEVICE)\n"
   ]
  },
  {
   "cell_type": "code",
   "execution_count": 15,
   "metadata": {},
   "outputs": [
    {
     "name": "stderr",
     "output_type": "stream",
     "text": [
      " 14%|████████▎                                                  | 283/2000 [00:14<01:26, 19.85it/s, Epoch=1, Loss=5.21]\n"
     ]
    },
    {
     "ename": "KeyboardInterrupt",
     "evalue": "",
     "output_type": "error",
     "traceback": [
      "\u001b[1;31m---------------------------------------------------------------------------\u001b[0m",
      "\u001b[1;31mKeyboardInterrupt\u001b[0m                         Traceback (most recent call last)",
      "Cell \u001b[1;32mIn[15], line 1\u001b[0m\n\u001b[1;32m----> 1\u001b[0m \u001b[43mengine\u001b[49m\u001b[38;5;241;43m.\u001b[39;49m\u001b[43mfit\u001b[49m\u001b[43m(\u001b[49m\u001b[43mtrain_loader\u001b[49m\u001b[43m)\u001b[49m\n\u001b[0;32m      2\u001b[0m outs, loss \u001b[38;5;241m=\u001b[39m engine\u001b[38;5;241m.\u001b[39mevaluate(test_loader)\n",
      "Cell \u001b[1;32mIn[13], line 28\u001b[0m, in \u001b[0;36mEngine.fit\u001b[1;34m(self, dataloader)\u001b[0m\n\u001b[0;32m     23\u001b[0m loss\u001b[38;5;241m.\u001b[39mbackward()\n\u001b[0;32m     25\u001b[0m \u001b[38;5;28mself\u001b[39m\u001b[38;5;241m.\u001b[39moptimizer\u001b[38;5;241m.\u001b[39mstep()\n\u001b[1;32m---> 28\u001b[0m tk\u001b[38;5;241m.\u001b[39mset_postfix({\u001b[38;5;124m'\u001b[39m\u001b[38;5;124mEpoch\u001b[39m\u001b[38;5;124m'\u001b[39m:epoch\u001b[38;5;241m+\u001b[39m\u001b[38;5;241m1\u001b[39m, \u001b[38;5;124m'\u001b[39m\u001b[38;5;124mLoss\u001b[39m\u001b[38;5;124m'\u001b[39m : loss\u001b[38;5;241m.\u001b[39mitem()})\n",
      "\u001b[1;31mKeyboardInterrupt\u001b[0m: "
     ]
    }
   ],
   "source": [
    "engine.fit(train_loader)\n",
    "outs, loss = engine.evaluate(test_loader)"
   ]
  },
  {
   "cell_type": "code",
   "execution_count": null,
   "metadata": {},
   "outputs": [],
   "source": [
    "import matplotlib.pyplot as plt\n",
    "import numpy as np\n",
    "from matplotlib.font_manager import FontProperties\n",
    "\n",
    "font_path = \"F:\\\\project\\\\python\\\\OCR\\\\Recognize\\\\Gen\\\\font\\\\SimHei.ttf\"  # 替换成你的中文字体文件路径\n",
    "myfont = FontProperties(fname=font_path)\n",
    "\n",
    "ids = np.random.randint(len(data))\n",
    "image = data[ids]\n",
    "out = engine.predict(image)[0]\n",
    "\n",
    "def show_prediction(out, image):\n",
    "    gt = image.split('/')[-1].split('.')[0]\n",
    "    imagePIL = Image.open(image).convert('L')\n",
    "\n",
    "    pred = ''\n",
    "    then = 0\n",
    "    for x in out:\n",
    "        if then != x:\n",
    "            if x > 0 :\n",
    "                pred += mapping_inv[x]\n",
    "        then = x\n",
    "\n",
    "    plt.figure(figsize=(15, 12))\n",
    "    img_array = np.asarray(imagePIL)\n",
    "    plt.title(f'Ground Truth - {gt} || Prediction - {pred}',fontproperties=myfont)\n",
    "    plt.axis('off')\n",
    "    plt.imshow(img_array,cmap='gray')\n",
    "    \n",
    "show_prediction(out, image)"
   ]
  },
  {
   "cell_type": "code",
   "execution_count": null,
   "metadata": {},
   "outputs": [],
   "source": [
    "saving = {'state_dict':engine.model.state_dict(),\n",
    "          'optimizer':engine.optimizer.state_dict(),\n",
    "         'mapping':mapping,\n",
    "         'mapping_inv':mapping_inv}\n",
    "torch.save(saving, './model/BNN_difsize_chinese_model.pth')"
   ]
  },
  {
   "cell_type": "code",
   "execution_count": null,
   "metadata": {},
   "outputs": [],
   "source": []
  }
 ],
 "metadata": {
  "kernelspec": {
   "display_name": "Python ocrIpy38",
   "language": "python",
   "name": "ocripy38"
  },
  "language_info": {
   "codemirror_mode": {
    "name": "ipython",
    "version": 3
   },
   "file_extension": ".py",
   "mimetype": "text/x-python",
   "name": "python",
   "nbconvert_exporter": "python",
   "pygments_lexer": "ipython3",
   "version": "3.8.19"
  }
 },
 "nbformat": 4,
 "nbformat_minor": 4
}
