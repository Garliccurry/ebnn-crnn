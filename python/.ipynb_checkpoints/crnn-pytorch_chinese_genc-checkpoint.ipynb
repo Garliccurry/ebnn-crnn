{
 "cells": [
  {
   "cell_type": "code",
   "execution_count": 1,
   "metadata": {},
   "outputs": [
    {
     "name": "stdout",
     "output_type": "stream",
     "text": [
      "char_num:127\n"
     ]
    }
   ],
   "source": [
    "# -*- coding: utf-8 -*-\n",
    "import os\n",
    "import glob \n",
    "import pandas as pd\n",
    "import string\n",
    "import collections\n",
    "from tqdm import tqdm\n",
    "import numpy as np\n",
    "from PIL import Image\n",
    "from sklearn.model_selection import train_test_split\n",
    "from matplotlib.font_manager import FontProperties\n",
    "import matplotlib.pyplot as plt\n",
    "import torch\n",
    "import torch.nn as nn\n",
    "import torch.nn.functional as F\n",
    "import torchvision.transforms as T\n",
    "from torch.utils.data import DataLoader\n",
    "import torch.optim as optim\n",
    "from Gen.chinese_data import common_chinese_chars\n",
    "from crnn import CaptchaDataset, CRNN, Engine, calculate_loss\n",
    "from utils import binarize_weights, quantify_weights\n",
    "from bnn_layer import BLinear, BConv2d, HLinear, BLSTM, BLSTMCell"
   ]
  },
  {
   "cell_type": "code",
   "execution_count": 2,
   "metadata": {},
   "outputs": [
    {
     "data": {
      "text/plain": [
       "device(type='cuda')"
      ]
     },
     "execution_count": 2,
     "metadata": {},
     "output_type": "execute_result"
    }
   ],
   "source": [
    "path = r'.\\\\data\\\\chinese\\\\size3240font3shape20050'\n",
    "labels_file = f'{path}\\\\labels.txt'\n",
    "DEVICE = torch.device('cuda' if torch.cuda.is_available() else 'cpu')\n",
    "DEVICE"
   ]
  },
  {
   "cell_type": "code",
   "execution_count": 3,
   "metadata": {},
   "outputs": [],
   "source": [
    "all_letters = common_chinese_chars\n",
    "mapping = {}\n",
    "mapping_inv = {}\n",
    "i = 1\n",
    "for x in all_letters:\n",
    "    mapping[x] = i\n",
    "    mapping_inv[i] = x\n",
    "    i += 1\n",
    "num_class = len(mapping)"
   ]
  },
  {
   "cell_type": "code",
   "execution_count": 4,
   "metadata": {},
   "outputs": [],
   "source": [
    "images = []\n",
    "labels = []\n",
    "datas = collections.defaultdict(list)\n",
    "data_len = 0\n",
    "with open(labels_file, 'r', encoding='utf-8') as f:\n",
    "    for line in f:\n",
    "        line = line.strip()\n",
    "        image_name, chinese_text = line.split(',')\n",
    "        chinese_chars = list(chinese_text)\n",
    "        datas['image'].append(image_name)\n",
    "        datas['label'].append([mapping[i] for i in chinese_chars])\n",
    "        data_len += 1\n",
    "df = pd.DataFrame(datas)\n",
    "df_train, df_test = train_test_split(df, test_size=0.2, shuffle=True)\n",
    "transform = T.Compose([T.ToTensor()])\n",
    "train_data = CaptchaDataset(df_train, transform)\n",
    "test_data = CaptchaDataset(df_test, transform)\n",
    "train_loader = DataLoader(train_data, batch_size=20, shuffle=True)\n",
    "test_loader = DataLoader(test_data, batch_size=10)"
   ]
  },
  {
   "cell_type": "code",
   "execution_count": 5,
   "metadata": {},
   "outputs": [
    {
     "data": {
      "text/plain": [
       "CRNN(\n",
       "  (conv1): BConv2d(\n",
       "    (conv): Conv2d(1, 1, kernel_size=(3, 3), stride=(1, 1), padding=(1, 1), bias=False)\n",
       "  )\n",
       "  (pool1): MaxPool2d(kernel_size=2, stride=2, padding=0, dilation=1, ceil_mode=False)\n",
       "  (bn1): BatchNorm2d(1, eps=1e-05, momentum=0.1, affine=True, track_running_stats=True)\n",
       "  (conv2): BConv2d(\n",
       "    (conv): Conv2d(1, 16, kernel_size=(4, 3), stride=(1, 1), padding=(1, 1), bias=False)\n",
       "  )\n",
       "  (pool2): MaxPool2d(kernel_size=(4, 2), stride=(4, 2), padding=0, dilation=1, ceil_mode=False)\n",
       "  (bn2): BatchNorm2d(16, eps=1e-05, momentum=0.1, affine=True, track_running_stats=True)\n",
       "  (conv3): BConv2d(\n",
       "    (conv): Conv2d(16, 32, kernel_size=(3, 3), stride=(1, 1), padding=(1, 1), bias=False)\n",
       "  )\n",
       "  (pool3): MaxPool2d(kernel_size=(3, 2), stride=(3, 2), padding=0, dilation=1, ceil_mode=False)\n",
       "  (bn3): BatchNorm2d(32, eps=1e-05, momentum=0.1, affine=True, track_running_stats=True)\n",
       "  (conv4): BConv2d(\n",
       "    (conv): Conv2d(32, 128, kernel_size=(3, 3), stride=(1, 1), padding=(1, 1), bias=False)\n",
       "  )\n",
       "  (pool4): MaxPool2d(kernel_size=(2, 1), stride=(2, 1), padding=0, dilation=1, ceil_mode=False)\n",
       "  (bn4): BatchNorm2d(128, eps=1e-05, momentum=0.1, affine=True, track_running_stats=True)\n",
       "  (linear1): BLinear(\n",
       "    (linear): Linear(in_features=128, out_features=64, bias=False)\n",
       "  )\n",
       "  (rnn): BLSTM(\n",
       "    (layers_f): ModuleList(\n",
       "      (0): BLSTMCell()\n",
       "    )\n",
       "    (layers_r): ModuleList(\n",
       "      (0): BLSTMCell()\n",
       "    )\n",
       "  )\n",
       "  (bn5): BatchNorm1d(160, eps=1e-05, momentum=0.1, affine=True, track_running_stats=True)\n",
       "  (linear2): HLinear(\n",
       "    (linear): Linear(in_features=160, out_features=128, bias=False)\n",
       "  )\n",
       ")"
      ]
     },
     "execution_count": 5,
     "metadata": {},
     "output_type": "execute_result"
    }
   ],
   "source": [
    "model = CRNN(in_channels=1, output=num_class, print_val=True).to(DEVICE)\n",
    "optimizer = optim.Adam(model.parameters(), lr=1e-4)\n",
    "criterion = nn.CTCLoss()\n",
    "\n",
    "engine = Engine(model, optimizer, criterion, device=DEVICE)\n",
    "mapping, mapping_inv = engine.load_model('./model/BNN_model.pth')\n",
    "model.eval()"
   ]
  },
  {
   "cell_type": "code",
   "execution_count": 6,
   "metadata": {},
   "outputs": [
    {
     "name": "stdout",
     "output_type": "stream",
     "text": [
      "Average Test Loss: 0.4897\n"
     ]
    }
   ],
   "source": [
    "test_loss = calculate_loss(test_loader, model, criterion, DEVICE)\n",
    "print(f'Average Test Loss: {test_loss:.4f}')"
   ]
  },
  {
   "cell_type": "code",
   "execution_count": 7,
   "metadata": {},
   "outputs": [],
   "source": [
    "binarize_weights(model)\n",
    "quantify_weights(model)"
   ]
  },
  {
   "cell_type": "code",
   "execution_count": 8,
   "metadata": {
    "scrolled": true
   },
   "outputs": [
    {
     "name": "stdout",
     "output_type": "stream",
     "text": [
      "Layer: linear2.linear.weight | Size: torch.Size([128, 160]) | Values : tensor([-5.4688e-02, -2.6855e-03, -5.8594e-03,  1.5625e-02, -3.6621e-03,\n",
      "        -8.5449e-04, -1.0742e-02, -2.5391e-02,  7.3242e-03, -5.8594e-02,\n",
      "         1.4648e-03, -4.8828e-03, -1.0742e-02,  1.3428e-03, -1.0742e-02,\n",
      "         7.9346e-04,  2.4414e-03, -2.3438e-02,  6.3477e-03,  3.9062e-03,\n",
      "         1.2695e-02,  3.1250e-02, -1.2695e-02,  2.6855e-03,  1.4648e-02,\n",
      "         7.9346e-04, -1.7578e-02, -2.3438e-02,  2.3438e-02, -1.4062e-01,\n",
      "        -1.2695e-02, -2.9297e-02, -1.9531e-02,  3.4180e-03,  8.7891e-03,\n",
      "         4.8828e-03, -1.4648e-02, -8.7891e-03,  1.3672e-02,  6.8359e-03,\n",
      "         4.6875e-02,  3.9062e-03, -3.5156e-02, -1.1719e-02, -4.2969e-02,\n",
      "         4.8828e-03,  2.1973e-03, -2.1973e-03,  5.8594e-03, -2.1973e-03,\n",
      "        -3.1250e-02, -1.5625e-02, -4.2969e-02,  1.7090e-03, -3.9062e-03,\n",
      "        -8.7891e-03, -6.3477e-03,  1.5869e-03,  5.3711e-03,  4.2969e-02,\n",
      "         2.7344e-02,  3.9062e-03, -1.2695e-02,  7.8125e-03, -3.9062e-03,\n",
      "         1.9531e-02,  7.8125e-03, -1.7188e-01, -4.8828e-03, -6.2500e-02,\n",
      "        -2.1484e-02,  3.9062e-03, -4.3945e-03,  6.2500e-01, -6.8359e-03,\n",
      "         1.9531e-02, -1.3672e-02,  3.1738e-03,  7.8125e-03,  5.3711e-03,\n",
      "        -1.4648e-02, -6.2500e-02,  5.3711e-03, -1.3672e-02,  2.3438e-02,\n",
      "         6.2500e-02, -6.8750e-01,  9.7656e-03, -3.4180e-03,  3.4375e-01,\n",
      "        -1.9531e-02, -2.4414e-03,  4.6875e-02,  2.0312e-01,  1.5625e-02,\n",
      "         2.5391e-02, -1.3672e-02, -1.7578e-02,  6.8359e-03, -9.7656e-03,\n",
      "        -2.9297e-02, -9.7656e-03,  6.8359e-03,  1.1719e-02, -4.6875e-02,\n",
      "        -8.7891e-03, -7.8125e-03, -3.1738e-03,  1.9531e-03, -9.7656e-03,\n",
      "        -9.7656e-03, -4.3945e-03,  5.3711e-03,  1.5869e-03, -1.9531e-02,\n",
      "         2.1362e-04,  1.3428e-03, -3.1250e-02, -8.7891e-03, -1.4648e-03,\n",
      "         1.1719e-02, -5.8594e-03,  3.1738e-03,  4.3945e-03, -2.5391e-02,\n",
      "        -3.9062e-03, -1.7578e-02,  8.7891e-03, -3.9062e-03, -1.9531e-02,\n",
      "         7.8125e-03,  1.5869e-03, -7.3242e-03, -1.0742e-02, -4.3945e-03,\n",
      "         1.9531e-02,  3.9062e-03,  1.1719e-02, -8.7891e-03, -4.2969e-02,\n",
      "         2.1973e-03, -2.3438e-02, -2.7344e-02, -1.1719e-02, -1.2207e-03,\n",
      "         1.0742e-02, -1.2695e-02,  3.4180e-03, -3.9062e-03,  6.3477e-03,\n",
      "         1.6785e-04, -1.5869e-03,  8.5449e-04,  1.1719e-02,  2.5391e-02,\n",
      "         6.8359e-03, -1.9531e-03, -2.7344e-02, -7.8125e-03, -3.1250e-02],\n",
      "       device='cuda:0', grad_fn=<SelectBackward0>) | Type : torch.float32\n",
      "\n"
     ]
    }
   ],
   "source": [
    "# for name, module in model.named_modules():\n",
    "#     if isinstance(module, (torch.nn.BatchNorm2d, torch.nn.BatchNorm1d)):\n",
    "#         # 如果当前模块是Batch Normalization层\n",
    "#         mean = module.running_mean.cpu().detach().numpy().flatten()\n",
    "#         var = module.running_var.cpu().detach().numpy().flatten()\n",
    "#         std = np.sqrt(var + 10**(-5))\n",
    "#         print(f\"Layer: {name} | Mean : {mean[0]} | var : {var[0]} | std : {std[0]} \\n\")\n",
    "for name, param in model.named_parameters():\n",
    "    if any(name.startswith(layer) for layer in [\"linear2\"]):\n",
    "        print(f\"Layer: {name} | Size: {param.size()} | Values : {param[0]} | Type : {param.dtype}\\n\" )\n"
   ]
  },
  {
   "cell_type": "code",
   "execution_count": 9,
   "metadata": {},
   "outputs": [
    {
     "name": "stdout",
     "output_type": "stream",
     "text": [
      "Average Test Loss: 0.4182\n"
     ]
    }
   ],
   "source": [
    "test_loss = calculate_loss(test_loader, model, criterion, DEVICE)\n",
    "print(f'Average Test Loss: {test_loss:.4f}')"
   ]
  },
  {
   "cell_type": "code",
   "execution_count": 10,
   "metadata": {},
   "outputs": [
    {
     "name": "stdout",
     "output_type": "stream",
     "text": [
      "B_Clayers conv1.conv.weight\n",
      "9\n",
      "F_layers bn1.weight\n",
      "F_layers bn1.bias\n",
      "B_Clayers conv2.conv.weight\n",
      "12\n",
      "F_layers bn2.weight\n",
      "F_layers bn2.bias\n",
      "B_Clayers conv3.conv.weight\n",
      "144\n",
      "F_layers bn3.weight\n",
      "F_layers bn3.bias\n",
      "B_Clayers conv4.conv.weight\n",
      "288\n",
      "F_layers bn4.weight\n",
      "F_layers bn4.bias\n",
      "B_layers linear1.linear.weight\n",
      "B_layers rnn.layers_f.0.W_ih\n",
      "B_layers rnn.layers_f.0.W_hh\n",
      "B_layers rnn.layers_r.0.W_ih\n",
      "B_layers rnn.layers_r.0.W_hh\n",
      "F_layers bn5.weight\n",
      "F_layers bn5.bias\n",
      "F_layers linear2.linear.weight\n",
      "bn1\n",
      "bn2\n",
      "bn3\n",
      "bn4\n",
      "bn5\n",
      "Weights saved to model_weights.h\n"
     ]
    }
   ],
   "source": [
    "import numpy as np\n",
    "import torch\n",
    "from utils import save_weights_to_h_file\n",
    "output_path = 'model_weights.h'\n",
    "\n",
    "# 调用函数保存权重\n",
    "save_weights_to_h_file(model, output_path)\n",
    "print(f'Weights saved to {output_path}')\n"
   ]
  },
  {
   "cell_type": "code",
   "execution_count": 18,
   "metadata": {},
   "outputs": [
    {
     "name": "stdout",
     "output_type": "stream",
     "text": [
      "Prediction: 我不是刘双\n"
     ]
    },
    {
     "data": {
      "image/png": "[encoded data removed]",
      "text/plain": [
       "<Figure size 1500x1200 with 1 Axes>"
      ]
     },
     "metadata": {},
     "output_type": "display_data"
    },
    {
     "name": "stdout",
     "output_type": "stream",
     "text": [
      "[ 6  0  0  0  0  0  0  0 92  0  0  0 40  0  0  0  0  0  0  0  0 28  0  0\n",
      " 20]\n"
     ]
    }
   ],
   "source": [
    "image_path = '.\\\\data\\\\chinese\\\\size3240font3shape20050\\\\0.png'  # 替换为实际验证码图片路径\n",
    "out = engine.predict(image_path)[0]\n",
    "\n",
    "# 解析预测结果\n",
    "def decode_prediction(out, mapping_inv):\n",
    "    pred = ''\n",
    "    then = -1\n",
    "    for x in out:\n",
    "        if then != x:\n",
    "            if x > 0 :\n",
    "                pred += mapping_inv[x]\n",
    "        then = x\n",
    "    return pred\n",
    "\n",
    "# 显示预测结果\n",
    "prediction = decode_prediction(out, mapping_inv)\n",
    "print(f'Prediction: {prediction}')\n",
    "font_path = \".\\\\Gen\\\\font\\\\SimHei.ttf\"  # 替换成你的中文字体文件路径\n",
    "myfont = FontProperties(fname=font_path)\n",
    "def show_prediction(out, image_path, mapping_inv):\n",
    "    gt = image_path.split('\\\\')[-1].split('.')[0]\n",
    "    imagePIL = Image.open(image_path).convert('L')\n",
    "    pred = decode_prediction(out, mapping_inv)\n",
    "\n",
    "    plt.figure(figsize=(15, 12))\n",
    "    img_array = np.asarray(imagePIL)\n",
    "    plt.title(f'Ground Truth - {gt} || Prediction - {pred}', fontproperties=myfont)\n",
    "    plt.axis('off')\n",
    "    plt.imshow(img_array, cmap='gray')\n",
    "    plt.show()\n",
    "show_prediction(out, image_path, mapping_inv)\n",
    "print(out)"
   ]
  },
  {
   "cell_type": "code",
   "execution_count": 12,
   "metadata": {},
   "outputs": [],
   "source": [
    "from utils import save_data_to_h_file\n",
    "\n",
    "output_path = './data/test_chinese_data.h'\n",
    "imagePIL = np.asarray(Image.open(image_path).convert('L'))\n",
    "save_data_to_h_file(imagePIL, output_path)\n",
    "# print(imagePIL)"
   ]
  },
  {
   "cell_type": "code",
   "execution_count": 13,
   "metadata": {},
   "outputs": [],
   "source": [
    "# pic = imagePIL.reshape(50,200)\n",
    "# plt.imshow(pic, cmap='gray')\n",
    "# plt.show()"
   ]
  },
  {
   "cell_type": "code",
   "execution_count": null,
   "metadata": {},
   "outputs": [],
   "source": []
  }
 ],
 "metadata": {
  "kernelspec": {
   "display_name": "Python ocrIpy38",
   "language": "python",
   "name": "ocripy38"
  },
  "language_info": {
   "codemirror_mode": {
    "name": "ipython",
    "version": 3
   },
   "file_extension": ".py",
   "mimetype": "text/x-python",
   "name": "python",
   "nbconvert_exporter": "python",
   "pygments_lexer": "ipython3",
   "version": "3.8.19"
  }
 },
 "nbformat": 4,
 "nbformat_minor": 4
}
